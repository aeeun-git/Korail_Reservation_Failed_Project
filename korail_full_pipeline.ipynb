{
 "cells": [
  {
   "cell_type": "code",
   "execution_count": null,
   "id": "ce095af5",
   "metadata": {},
   "outputs": [
    {
     "name": "stdout",
     "output_type": "stream",
     "text": [
      "원본 df shape: (4162560, 5)\n",
      "  출발역 도착역      출발일자  출발시각  예약실패건수\n",
      "0  경산  광명  20241021     0       0\n",
      "1  경산  광명  20241021  1000       0\n",
      "2  경산  광명  20241021  2000       0\n",
      "3  경산  광명  20241021  3000       0\n",
      "4  경산  광명  20241021  4000       0 \n",
      "\n",
      "time_str sample / parsed depart_dt:\n",
      "   출발시각 time_str  hour  minute  second           depart_dt\n",
      "0     0   000000     0       0       0 2024-10-21 00:00:00\n",
      "1  1000   001000     0      10       0 2024-10-21 00:10:00\n",
      "2  2000   002000     0      20       0 2024-10-21 00:20:00\n",
      "3  3000   003000     0      30       0 2024-10-21 00:30:00\n",
      "4  4000   004000     0      40       0 2024-10-21 00:40:00 \n",
      "\n"
     ]
    }
   ],
   "source": [
    "import pandas as pd\n",
    "import numpy as np\n",
    "import tensorflow as tf\n",
    "from tensorflow.keras.models import Model\n",
    "from tensorflow.keras.layers import Input, LSTM, Dense, Attention, Lambda\n",
    "from sklearn.model_selection import train_test_split\n",
    "from sklearn.preprocessing import MinMaxScaler\n",
    "import holidays\n",
    "import matplotlib.pyplot as plt\n",
    "\n",
    "df = pd.read_csv('filtered_reservation_failed_rev2.csv')\n",
    "print(\"원본 df shape:\", df.shape)\n",
    "print(df.head(), \"\\n\")\n",
    "\n",
    "# 출발일자(YYYYMMDD) → datetime\n",
    "df['depart_date'] = pd.to_datetime(df['출발일자'], format='%Y%m%d')\n",
    "\n",
    "# 출발시각(HHMMSS) 문자열(6자리)로\n",
    "df['time_str'] = df['출발시각'].astype(str).str.zfill(6)\n",
    "\n",
    "# 문자열에서 시,분,초 분리\n",
    "df['hour']   = df['time_str'].str[0:2].astype(int)\n",
    "df['minute'] = df['time_str'].str[2:4].astype(int)\n",
    "df['second'] = df['time_str'].str[4:6].astype(int)\n",
    "\n",
    "# 최종 depart_dt 생성\n",
    "df['depart_dt'] = (\n",
    "    df['depart_date']\n",
    "    + pd.to_timedelta(df['hour'],   unit='h')\n",
    "    + pd.to_timedelta(df['minute'], unit='m')\n",
    "    + pd.to_timedelta(df['second'], unit='s')\n",
    ")\n",
    "\n",
    "print(\"depart_dt:\")\n",
    "print(df[['출발시각','time_str','hour','minute','second','depart_dt']].head(), \"\\n\")\n"
   ]
  },
  {
   "cell_type": "code",
   "execution_count": null,
   "id": "484f1c32",
   "metadata": {},
   "outputs": [
    {
     "name": "stdout",
     "output_type": "stream",
     "text": [
      "달력 피처 sample:\n",
      "            depart_dt  dow  is_weekend  is_holiday\n",
      "0 2024-10-21 00:00:00    0           0           0\n",
      "1 2024-10-21 00:10:00    0           0           0\n",
      "2 2024-10-21 00:20:00    0           0           0\n",
      "3 2024-10-21 00:30:00    0           0           0\n",
      "4 2024-10-21 00:40:00    0           0           0 \n",
      "\n"
     ]
    }
   ],
   "source": [
    "df['dow']        = df['depart_dt'].dt.weekday\n",
    "df['is_weekend'] = df['dow'].isin([5,6]).astype(int)\n",
    "kr_holidays      = holidays.KR()\n",
    "df['is_holiday'] = df['depart_dt'].dt.date.map(lambda d: int(d in kr_holidays))\n",
    "\n",
    "print(\"요일, 주말, 공휴일:\")\n",
    "print(df[['depart_dt','dow','is_weekend','is_holiday']].drop_duplicates().head(), \"\\n\")\n"
   ]
  },
  {
   "cell_type": "code",
   "execution_count": null,
   "id": "6c19a41d",
   "metadata": {},
   "outputs": [
    {
     "name": "stdout",
     "output_type": "stream",
     "text": [
      "weather_agg: (158117, 5)\n",
      "  station           depart_dt  temp  precip  snow\n",
      "0      강릉 2024-10-21 00:00:00  11.7     NaN   NaN\n",
      "1      강릉 2024-10-21 01:00:00  11.8     NaN   NaN\n",
      "2      강릉 2024-10-21 02:00:00  11.9     NaN   NaN\n",
      "3      강릉 2024-10-21 03:00:00  11.9     NaN   NaN\n",
      "4      강릉 2024-10-21 04:00:00  12.4     NaN   NaN \n",
      "\n",
      "station_to_weather 예시: [('행신', '서울'), ('영등포', '서울'), ('서울', '서울'), ('광명', '서울'), ('용산', '서울')]\n"
     ]
    }
   ],
   "source": [
    "weather = pd.read_csv(\n",
    "    'OBS_ASOS_TIM_20250507162026.csv',\n",
    "    parse_dates=['일시'],\n",
    "    encoding='euc_kr'\n",
    ").rename(columns={\n",
    "    '지점명':      'station',\n",
    "    '일시':        'depart_dt',\n",
    "    '기온(°C)':   'temp',\n",
    "    '강수량(mm)': 'precip',\n",
    "    '적설(cm)':   'snow'\n",
    "})\n",
    "\n",
    "# station+depart_dt 기상정보\n",
    "weather_agg = (\n",
    "    weather\n",
    "    .groupby(['station','depart_dt'])[['temp','precip','snow']]\n",
    "    .mean()\n",
    "    .reset_index()\n",
    ")\n",
    "\n",
    "# 역명 → 기상지점 매핑 테이블\n",
    "station_to_weather = {\n",
    "    '행신':'서울', '영등포':'서울', \n",
    "    '서울':'서울', '광명':'서울',\n",
    "    '용산':'서울', '천안아산':'천안',\n",
    "    '오송':'청주', '대전':'대전',\n",
    "    '김천구미':'구미', '공주':'대전',\n",
    "    '동대구':'대구', '익산':'전주',\n",
    "    '정읍':'정읍', '전주':'전주',\n",
    "    '경산':'대구', '경주':'경주',\n",
    "    '광주송정':'광주', '남원':'남원',\n",
    "    '밀양':'밀양', '포항':'포항',\n",
    "    '나주':'광주', '곡성':'광주',\n",
    "    '울산':'울산', '창원중앙':'창원',\n",
    "    '창원':'창원', '부산':'부산',   \n",
    "    '마산':'창원', '진주':'진주',\n",
    "    '목포':'목포',  '구례구':'순천',\n",
    "    '순천':'순천', '여천':'여수',\n",
    "    '여수엑스포':'여수'  \n",
    "}\n",
    "\n",
    "print(\"weather_agg:\", weather_agg.shape)\n",
    "print(weather_agg.head(), \"\\n\")"
   ]
  },
  {
   "cell_type": "code",
   "execution_count": null,
   "id": "930d8c45",
   "metadata": {},
   "outputs": [
    {
     "name": "stdout",
     "output_type": "stream",
     "text": [
      "최종 df2 shape: (4162560, 16)\n",
      "        OD weather_dep weather_arr  temp_dep  temp_arr\n",
      "0    경산_광명          대구          서울      15.2      10.8\n",
      "1  경산_김천구미          대구          구미      15.2      12.3\n",
      "2    경산_대전          대구          대전      15.2      10.2\n",
      "3   경산_동대구          대구          대구      15.2      15.2\n",
      "4    경산_마산          대구          창원      15.2      15.6\n"
     ]
    }
   ],
   "source": [
    "# OD별 집계\n",
    "df['OD'] = df['출발역'].astype(str) + '_' + df['도착역'].astype(str)\n",
    "df2 = (\n",
    "    df\n",
    "    .groupby(['depart_dt','OD'], as_index=False)\n",
    "    .agg({\n",
    "        '예약실패건수':'sum',\n",
    "        'dow':'first',\n",
    "        'is_weekend':'first',\n",
    "        'is_holiday':'first'\n",
    "    })\n",
    ")\n",
    "\n",
    "# OD 분리\n",
    "df2[['orig','dest']] = df2['OD'].str.split('_', expand=True)\n",
    "\n",
    "# 출발, 도착역 → station 매핑\n",
    "df2['weather_dep'] = df2['orig'].map(station_to_weather)\n",
    "df2['weather_arr'] = df2['dest'].map(station_to_weather)\n",
    "\n",
    "# depart_dt+weather_dep(출발역 날씨) 기준으로 merge\n",
    "df2 = df2.merge(\n",
    "    weather_agg,\n",
    "    left_on=['weather_dep','depart_dt'],\n",
    "    right_on=['station','depart_dt'],\n",
    "    how='left'\n",
    ").rename(columns={\n",
    "    'temp':   'temp_dep',\n",
    "    'precip': 'precip_dep',\n",
    "    'snow':   'snow_dep'\n",
    "}).drop(columns=['station'])\n",
    "\n",
    "# depart_dt+weather_arr(도착역 날씨) 기준으로 merge\n",
    "df2 = df2.merge(\n",
    "    weather_agg,\n",
    "    left_on=['weather_arr','depart_dt'],\n",
    "    right_on=['station','depart_dt'],\n",
    "    how='left'\n",
    ").rename(columns={\n",
    "    'temp':   'temp_arr',\n",
    "    'precip': 'precip_arr',\n",
    "    'snow':   'snow_arr'\n",
    "}).drop(columns=['station'])\n",
    "\n",
    "# 결측치 채우기\n",
    "for c in [\n",
    "    'temp_dep','precip_dep','snow_dep',\n",
    "    'temp_arr','precip_arr','snow_arr'\n",
    "]:\n",
    "    df2[c] = df2[c].ffill().fillna(0)\n",
    "\n",
    "print(\"최종 df2 shape:\", df2.shape)\n",
    "print(df2[['OD','weather_dep','weather_arr','temp_dep','temp_arr']].head())\n"
   ]
  },
  {
   "cell_type": "code",
   "execution_count": null,
   "id": "103f8bb5",
   "metadata": {},
   "outputs": [
    {
     "name": "stdout",
     "output_type": "stream",
     "text": [
      "라인 할당 예시:\n",
      "        OD line\n",
      "0    경산_광명   경전\n",
      "1  경산_김천구미   경전\n",
      "2    경산_대전   경전\n",
      "3   경산_동대구   경전\n",
      "4    경산_마산   경전\n",
      "5    경산_밀양   경전\n",
      "6    경산_서울   경전\n",
      "7    경산_오송   경전\n",
      "8    경산_진주   경전\n",
      "9    경산_창원   경전\n"
     ]
    }
   ],
   "source": [
    "# 노선별 역 리스트 정의\n",
    "lines = {\n",
    "    '경부': ['행신','서울','영등포','광명','천안아산','오송','대전','김천구미','동대구','경주','울산','부산'],\n",
    "    '경전': ['행신','서울','광명','천안아산','오송','대전','김천구미','동대구','경산','밀양','창원중앙','창원','마산','진주'],\n",
    "    '동해': ['행신','서울','광명','천안아산','오송','대전','김천구미','동대구','경주','포항'],\n",
    "    '호남': ['행신','서울','용산','광명','천안아산','오송','공주','익산','정읍','광주송정','나주','목포'],\n",
    "    '전라': ['행신','서울','용산','광명','천안아산','오송','공주','익산','전주','남원','곡성','구례구','순천','여천','여수엑스포']\n",
    "}\n",
    "\n",
    "# OD의 출발역/도착역 라인 할당\n",
    "def map_line(od):\n",
    "    orig, dest = od.split('_')\n",
    "    for line, stations in lines.items():\n",
    "        if orig in stations and dest in stations:\n",
    "            return line\n",
    "    return '기타'\n",
    "\n",
    "df2['line'] = df2['OD'].map(map_line)\n",
    "\n",
    "print(\"라인 할당:\")\n",
    "print(df2[['OD','line']].drop_duplicates().head(10))\n"
   ]
  },
  {
   "cell_type": "code",
   "execution_count": null,
   "id": "68e78c0d",
   "metadata": {},
   "outputs": [
    {
     "name": "stdout",
     "output_type": "stream",
     "text": [
      "ts_fail shape: (7680, 542)\n",
      "feat_ts shape: (7680, 9)\n",
      "ts_fail columns sample: Index(['경산_광명', '경산_김천구미', '경산_대전', '경산_동대구', '경산_마산', '경산_밀양', '경산_서울',\n",
      "       '경산_오송', '경산_진주', '경산_창원', '경산_창원중앙', '경산_천안아산', '경산_행신', '경주_광명',\n",
      "       '경주_김천구미', '경주_대전', '경주_동대구', '경주_부산', '경주_서울', '경주_영등포'],\n",
      "      dtype='object', name='OD') \n",
      "\n",
      "feat_ts head:\n",
      "                      dow  is_weekend  is_holiday  temp_dep  precip_dep  \\\n",
      "depart_dt                                                                \n",
      "2024-10-21 00:00:00  0.0         0.0         0.0      15.2         0.0   \n",
      "2024-10-21 00:10:00  0.0         0.0         0.0      10.8         0.0   \n",
      "2024-10-21 00:20:00  0.0         0.0         0.0      10.8         0.0   \n",
      "2024-10-21 00:30:00  0.0         0.0         0.0      10.8         0.0   \n",
      "2024-10-21 00:40:00  0.0         0.0         0.0      10.8         0.0   \n",
      "\n",
      "                     snow_dep  temp_arr  precip_arr  snow_arr  \n",
      "depart_dt                                                      \n",
      "2024-10-21 00:00:00       0.0      10.8         0.0       0.0  \n",
      "2024-10-21 00:10:00       0.0      17.5         0.0       0.0  \n",
      "2024-10-21 00:20:00       0.0      17.5         0.0       0.0  \n",
      "2024-10-21 00:30:00       0.0      17.5         0.0       0.0  \n",
      "2024-10-21 00:40:00       0.0      17.5         0.0       0.0   \n",
      "\n"
     ]
    }
   ],
   "source": [
    "# pivot → ts_fail\n",
    "ts_fail = (\n",
    "    df2\n",
    "    .pivot(index='depart_dt', columns='OD', values='예약실패건수')\n",
    "    .fillna(0)\n",
    "    .sort_index()\n",
    ")\n",
    "\n",
    "# depart_dt별 달력,양쪽 날씨만 추출\n",
    "cal_weather = (\n",
    "    df2[[\n",
    "        'depart_dt',\n",
    "        'dow','is_weekend','is_holiday',\n",
    "        'temp_dep','precip_dep','snow_dep',\n",
    "        'temp_arr','precip_arr','snow_arr'\n",
    "    ]]\n",
    "    .drop_duplicates(subset='depart_dt')\n",
    "    .set_index('depart_dt')\n",
    "    .loc[ts_fail.index]     \n",
    "    .astype('float32')\n",
    ")\n",
    "\n",
    "feat_ts = cal_weather\n",
    "\n",
    "print(\"ts_fail shape:\", ts_fail.shape)    # (7680, 542)\n",
    "print(\"feat_ts shape:\", feat_ts.shape)    # (7680, 9)\n",
    "print(\"feat_ts head:\\n\", feat_ts.head(), \"\\n\")\n"
   ]
  },
  {
   "cell_type": "code",
   "execution_count": null,
   "id": "2386f11e",
   "metadata": {},
   "outputs": [
    {
     "name": "stdout",
     "output_type": "stream",
     "text": [
      "서비스 시간대(05~01시) 필터 후 shapes:\n",
      " ts_fail: (7680, 542)\n",
      " feat_ts: (7680, 9)\n"
     ]
    }
   ],
   "source": [
    "idx = ts_fail.index\n",
    "mask = (idx.hour >= 5) | (idx.hour <= 1)\n",
    "\n",
    "ts_fail = ts_fail.loc[mask]\n",
    "feat_ts  = feat_ts.loc[mask]\n",
    "\n",
    "print(\"05~01시 필터 shapes:\")\n",
    "print(\" ts_fail:\", ts_fail.shape)\n",
    "print(\" feat_ts:\", feat_ts.shape)\n"
   ]
  },
  {
   "cell_type": "code",
   "execution_count": null,
   "id": "2474d30b",
   "metadata": {},
   "outputs": [
    {
     "name": "stdout",
     "output_type": "stream",
     "text": [
      "정규화 후 예시 ts_fail_scaled head:\n",
      "OD                   경산_광명  경산_김천구미  경산_대전\n",
      "depart_dt                                 \n",
      "2024-10-21 00:00:00    0.0      0.0    0.0\n",
      "2024-10-21 00:10:00    0.0      0.0    0.0\n",
      "2024-10-21 00:20:00    0.0      0.0    0.0\n",
      "2024-10-21 00:30:00    0.0      0.0    0.0\n",
      "2024-10-21 00:40:00    0.0      0.0    0.0 \n",
      "\n",
      "정규화 후 feat_scaled head:\n",
      "                     dow  is_weekend  is_holiday  temp_dep  precip_dep  \\\n",
      "depart_dt                                                                \n",
      "2024-10-21 00:00:00  0.0         0.0         0.0  0.695238         0.0   \n",
      "2024-10-21 00:10:00  0.0         0.0         0.0  0.555556         0.0   \n",
      "2024-10-21 00:20:00  0.0         0.0         0.0  0.555556         0.0   \n",
      "2024-10-21 00:30:00  0.0         0.0         0.0  0.555556         0.0   \n",
      "2024-10-21 00:40:00  0.0         0.0         0.0  0.555556         0.0   \n",
      "\n",
      "                     snow_dep  temp_arr  precip_arr  snow_arr  \n",
      "depart_dt                                                      \n",
      "2024-10-21 00:00:00       0.0  0.555556         0.0       0.0  \n",
      "2024-10-21 00:10:00       0.0  0.768254         0.0       0.0  \n",
      "2024-10-21 00:20:00       0.0  0.768254         0.0       0.0  \n",
      "2024-10-21 00:30:00       0.0  0.768254         0.0       0.0  \n",
      "2024-10-21 00:40:00       0.0  0.768254         0.0       0.0   \n",
      "\n"
     ]
    }
   ],
   "source": [
    "scaler_fail = MinMaxScaler()\n",
    "scaler_feat = MinMaxScaler()\n",
    "ts_fail_scaled = pd.DataFrame(\n",
    "    scaler_fail.fit_transform(ts_fail),\n",
    "    index=ts_fail.index, columns=ts_fail.columns\n",
    ")\n",
    "feat_scaled = pd.DataFrame(\n",
    "    scaler_feat.fit_transform(feat_ts),\n",
    "    index=feat_ts.index, columns=feat_ts.columns\n",
    ")\n",
    "\n",
    "print(\"정규화 후 ts_fail_scaled head:\")\n",
    "print(ts_fail_scaled.iloc[:5, :3], \"\\n\")\n",
    "print(\"정규화 후 feat_scaled head:\")\n",
    "print(feat_scaled.head(), \"\\n\")\n"
   ]
  },
  {
   "cell_type": "code",
   "execution_count": null,
   "id": "38ba4c64",
   "metadata": {},
   "outputs": [
    {
     "name": "stdout",
     "output_type": "stream",
     "text": [
      "경산_광명 시퀀스 X shape: (7674, 6, 10) y shape: (7674,) \n",
      "\n"
     ]
    }
   ],
   "source": [
    "SEQ_LEN = 6\n",
    "def make_sequences(series, feats):\n",
    "    X, y = [], []\n",
    "    for i in range(len(series) - SEQ_LEN):\n",
    "        seq_fail = series[i:i+SEQ_LEN].reshape(-1,1)\n",
    "        seq_feat = feats.iloc[i:i+SEQ_LEN].values\n",
    "        X.append(np.hstack([seq_fail, seq_feat]))\n",
    "        y.append(series[i+SEQ_LEN])\n",
    "    return np.array(X), np.array(y)\n",
    "\n",
    "# 테스트 OD\n",
    "sample_od = ts_fail_scaled.columns[0]\n",
    "Xs, ys = make_sequences(ts_fail_scaled[sample_od].values, feat_scaled)\n",
    "print(f\"{sample_od} 시퀀스 X shape:\", Xs.shape, \"y shape:\", ys.shape, \"\\n\")\n"
   ]
  },
  {
   "cell_type": "code",
   "execution_count": null,
   "id": "bdda9018",
   "metadata": {},
   "outputs": [
    {
     "name": "stdout",
     "output_type": "stream",
     "text": [
      "학습·평가 완료, OD 개수: 542 \n",
      "\n"
     ]
    }
   ],
   "source": [
    "results = {}\n",
    "for od in ts_fail_scaled.columns:\n",
    "    series = ts_fail_scaled[od].values\n",
    "    X, y   = make_sequences(series, feat_scaled)\n",
    "\n",
    "    X_train, X_test, y_train, y_test = train_test_split(\n",
    "        X, y, test_size=0.2, shuffle=False\n",
    "    )\n",
    "    \n",
    "    X_train, X_test = X_train.astype('float32'), X_test.astype('float32')\n",
    "    y_train, y_test = y_train.astype('float32'), y_test.astype('float32')\n",
    "\n",
    "    inp = Input(shape=(SEQ_LEN, X.shape[-1]))\n",
    "    lstm_out, st_h, _ = LSTM(32, return_sequences=True, return_state=True)(inp)\n",
    "    q = Lambda(lambda x: tf.expand_dims(x,1))(st_h)\n",
    "    attn = Attention()([q, lstm_out])\n",
    "    attn = Lambda(lambda x: tf.squeeze(x,1))(attn)\n",
    "    out  = Dense(1)(attn)\n",
    "\n",
    "    model = Model(inp, out)\n",
    "    model.compile(optimizer='adam', loss='mse', metrics=['mae'])\n",
    "    model.fit(X_train, y_train, epochs=5, batch_size=64, verbose=0)\n",
    "\n",
    "    _, mae = model.evaluate(X_test, y_test, verbose=0)\n",
    "    results[od] = mae\n",
    "\n",
    "print(\"학습 완료, OD 개수:\", len(results), \"\\n\")\n"
   ]
  },
  {
   "cell_type": "code",
   "execution_count": null,
   "id": "d8293d54",
   "metadata": {},
   "outputs": [
    {
     "name": "stdout",
     "output_type": "stream",
     "text": [
      "평균 MAE: 0.00987218591454181\n",
      "\n",
      "Worst 5 OD:\n",
      "            OD       MAE\n",
      "81      광명_전주  0.026083\n",
      "541     행신_포항  0.023964\n",
      "171   대전_창원중앙  0.023958\n",
      "338     오송_마산  0.023207\n",
      "480  천안아산_동대구  0.022974\n",
      "\n",
      "Best 5 OD:\n",
      "            OD       MAE\n",
      "285   순천_천안아산  0.001305\n",
      "352     오송_진주  0.001572\n",
      "160   대전_김천구미  0.001878\n",
      "33      곡성_오송  0.001884\n",
      "190  동대구_천안아산  0.002018 \n",
      "\n"
     ]
    },
    {
     "data": {
      "image/png": "[encoded data removed]",
      "text/plain": [
       "<Figure size 800x400 with 1 Axes>"
      ]
     },
     "metadata": {},
     "output_type": "display_data"
    }
   ],
   "source": [
    "mae_df = pd.Series(results, name='MAE').reset_index()\n",
    "mae_df.columns = ['OD','MAE']\n",
    "\n",
    "print(\"평균 MAE:\", mae_df['MAE'].mean())\n",
    "print(\"\\nWorst 5 OD:\\n\", mae_df.nlargest(5,'MAE'))\n",
    "print(\"\\nBest 5 OD:\\n\", mae_df.nsmallest(5,'MAE'), \"\\n\")\n",
    "\n",
    "plt.rcParams['font.family'] = 'Malgun Gothic'\n",
    "plt.rcParams['axes.unicode_minus'] = False\n",
    "\n",
    "plt.figure(figsize=(8,4))\n",
    "plt.hist(mae_df['MAE'], bins=30, edgecolor='k')\n",
    "plt.title('OD별 MAE 분포')\n",
    "plt.xlabel('MAE')\n",
    "plt.ylabel('빈도')\n",
    "plt.tight_layout()\n",
    "plt.show()"
   ]
  }
 ],
 "metadata": {
  "kernelspec": {
   "display_name": "korail_lstm",
   "language": "python",
   "name": "python3"
  },
  "language_info": {
   "codemirror_mode": {
    "name": "ipython",
    "version": 3
   },
   "file_extension": ".py",
   "mimetype": "text/x-python",
   "name": "python",
   "nbconvert_exporter": "python",
   "pygments_lexer": "ipython3",
   "version": "3.11.9"
  }
 },
 "nbformat": 4,
 "nbformat_minor": 5
}
